{
 "cells": [
  {
   "cell_type": "code",
   "execution_count": 32,
   "metadata": {},
   "outputs": [],
   "source": [
    "import torch\n",
    "import torch.nn as nn\n",
    "import dgl\n",
    "import networkx as nx\n",
    "from math import log\n",
    "from torch.nn import init"
   ]
  },
  {
   "cell_type": "code",
   "execution_count": 33,
   "metadata": {},
   "outputs": [],
   "source": [
    "# creating sample graph!!\n",
    "Gn = nx.karate_club_graph()\n",
    "\n",
    "# converting networkx to dgl graph\n",
    "G = dgl.DGLGraph()\n",
    "G.from_networkx(Gn)"
   ]
  },
  {
   "cell_type": "code",
   "execution_count": 34,
   "metadata": {},
   "outputs": [],
   "source": [
    "# creating nodes and edgelist for random process!!\n",
    "nodes = list(G.nodes())\n",
    "edgedict = {}\n",
    "for node in nodes:\n",
    "    edgedict[node] = G.successors(node)"
   ]
  },
  {
   "cell_type": "code",
   "execution_count": 35,
   "metadata": {},
   "outputs": [
    {
     "name": "stdout",
     "output_type": "stream",
     "text": [
      "tensor(28) tensor(2) tensor(23)\n"
     ]
    }
   ],
   "source": [
    "# random sampling of node and edges \n",
    "import random\n",
    "random.seed(8233232432)\n",
    "\n",
    "def sample_neighbor(node,alpha):\n",
    "    dval = random.uniform(0,1)\n",
    "    if dval < alpha:\n",
    "        v = random.choice(edgedict[node])\n",
    "    else:\n",
    "        v = node\n",
    "    return v\n",
    "\n",
    "random.shuffle(nodes) \n",
    "u_node = random.choice(nodes) # sampling a node\n",
    "v_node = sample_neighbor(u_node,0.85) # sampling positive example\n",
    "v_neg_node = random.choice(nodes) # sampling negative example\n",
    "print(u_node,v_node,v_neg_node)"
   ]
  },
  {
   "cell_type": "code",
   "execution_count": 36,
   "metadata": {},
   "outputs": [],
   "source": [
    "class Verse(nn.Module): # says we are building a custom neural network!!\n",
    "    \n",
    "    def __init__(self,nodes,edges,embedding,epochs,neg,lr,alpha):\n",
    "        super(Verse, self).__init__()\n",
    "        \n",
    "        self.nodes = nodes\n",
    "        self.edges = edges\n",
    "        self.num_nodes = len(nodes)\n",
    "        self.embedding = embedding\n",
    "        self.nce_bias = log(self.num_nodes)\n",
    "        self.nce_neg_bias = log(self.num_nodes/neg)\n",
    "        self.training_count = len(nodes) * epochs\n",
    "        self.neg = neg\n",
    "        self.lr = lr\n",
    "        self.alpha = alpha\n",
    "        \n",
    "        # intializing device\n",
    "        self.device = torch.device(\"cpu\")\n",
    "        \n",
    "        # Weight matrix\n",
    "        initrange = 0.5\n",
    "        self.W = nn.Embedding(self.num_nodes, self.embedding, sparse=True) \n",
    "        init.uniform_(self.W.weight.data, -initrange, initrange)\n",
    "        \n",
    "        # sigmoid table\n",
    "        self.lookup_table = torch.sigmoid(torch.arange(-6.01, 6.01, 0.01))\n",
    "        self.lookup_table[0] = 0.\n",
    "        self.lookup_table[-1] = 1.\n",
    "    \n",
    "    def set_device(self, gpu_id):\n",
    "        \"\"\" set gpu device \"\"\"\n",
    "        self.device = torch.device(\"cuda:%d\" % gpu_id)\n",
    "        print(\"The device is\", self.device)\n",
    "        self.lookup_table = self.lookup_table.to(self.device)\n",
    "        self.node = self.node.to(self.device)\n",
    "        self.edges = self.edges.to(self.device)\n",
    "    \n",
    "    def share_memory(self):\n",
    "        \"\"\" share the parameters across subprocesses \"\"\"\n",
    "        self.W.weight.share_memory_()\n",
    "    \n",
    "    def fast_sigmoid(self, score):\n",
    "        \"\"\" do fast sigmoid by looking up in a pre-defined table \"\"\"\n",
    "        idx = torch.floor((score + 6.01) / 0.01).long()\n",
    "        return self.lookup_table[idx]\n",
    "\n",
    "    def train(self):\n",
    "        lr = self.lr\n",
    "        nce_bias = self.nce_bias\n",
    "        nce_neg_bias = self.nce_neg_bias\n",
    "        neg = self.neg\n",
    "        alpha = self.alpha # alpha value to return to start node.\n",
    "        count = 0\n",
    "        while True:\n",
    "            if (count > self.training_count):\n",
    "                break\n",
    "            u_node = random.choice(self.nodes) # sample a node\n",
    "            v_node = sample_neighbor(u_node,alpha) # sample a positive node\n",
    "            self.update(u_node,v_node, 1, nce_bias, lr) # update weight for positive example\n",
    "            for i in range(neg):\n",
    "                v_neg_node = random.choice(self.nodes) # sample a negative node\n",
    "                self.update(u_node,v_neg_node, 0, nce_neg_bias, lr) # update weight for negative example\n",
    "            count += 1\n",
    "        return\n",
    "    \n",
    "    def update(self, u, v, label, bias, lr):\n",
    "        score = -bias\n",
    "        W_u = self.W.weight[u]\n",
    "        W_v = self.W.weight[v]\n",
    "        score += torch.matmul(W_u,W_v)\n",
    "        score = torch.clamp(score, max=6, min=-6)\n",
    "        score = (label - self.fast_sigmoid(score)) * lr\n",
    "        self.W.weight[u] += W_v * score\n",
    "        self.W.weight[v] += W_u * score\n",
    "        return\n",
    "\n",
    "    def save_embedding_txt(self, file_name):\n",
    "        embedding = self.W.weight.cpu().data.numpy()\n",
    "        with open(file_name, 'w') as f:\n",
    "            f.write('%d %d\\n' % (self.num_nodes, self.embedding))\n",
    "            for wid in range(self.num_nodes):\n",
    "                e = ' '.join(map(lambda x: str(x), embedding[wid]))\n",
    "                f.write('%s\\n' % (e))"
   ]
  },
  {
   "cell_type": "code",
   "execution_count": 37,
   "metadata": {},
   "outputs": [],
   "source": [
    "verse = Verse(nodes,edgedict,128,2,3,0.0025,0.85)"
   ]
  },
  {
   "cell_type": "code",
   "execution_count": 38,
   "metadata": {},
   "outputs": [],
   "source": [
    "verse.train()"
   ]
  },
  {
   "cell_type": "code",
   "execution_count": 39,
   "metadata": {},
   "outputs": [],
   "source": [
    "verse.save_embedding_txt('C:/Users/ajay madhavan/Documents/verse-master/test_emb.txt')"
   ]
  },
  {
   "cell_type": "code",
   "execution_count": 146,
   "metadata": {},
   "outputs": [],
   "source": []
  },
  {
   "cell_type": "code",
   "execution_count": null,
   "metadata": {},
   "outputs": [],
   "source": []
  }
 ],
 "metadata": {
  "kernelspec": {
   "display_name": "Python 3",
   "language": "python",
   "name": "python3"
  },
  "language_info": {
   "codemirror_mode": {
    "name": "ipython",
    "version": 3
   },
   "file_extension": ".py",
   "mimetype": "text/x-python",
   "name": "python",
   "nbconvert_exporter": "python",
   "pygments_lexer": "ipython3",
   "version": "3.7.7"
  }
 },
 "nbformat": 4,
 "nbformat_minor": 4
}
